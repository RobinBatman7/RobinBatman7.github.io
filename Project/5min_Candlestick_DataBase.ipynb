{
 "cells": [
  {
   "cell_type": "markdown",
   "metadata": {},
   "source": [
    "# Candlestick Database"
   ]
  },
  {
   "cell_type": "markdown",
   "metadata": {},
   "source": [
    "Below code just expands the width of the cells"
   ]
  },
  {
   "cell_type": "code",
   "execution_count": null,
   "metadata": {
    "ExecuteTime": {
     "end_time": "2020-08-10T14:37:57.061743Z",
     "start_time": "2020-08-10T14:37:57.054761Z"
    }
   },
   "outputs": [],
   "source": [
    "from IPython.core.display import display, HTML\n",
    "display(HTML(\"<style>.container { width:95% !important; }</style>\"))"
   ]
  },
  {
   "cell_type": "markdown",
   "metadata": {},
   "source": [
    "bin_keys is a .py file that stores the API and security key "
   ]
  },
  {
   "cell_type": "code",
   "execution_count": null,
   "metadata": {
    "ExecuteTime": {
     "end_time": "2020-08-13T22:17:36.029146Z",
     "start_time": "2020-08-13T22:17:34.901534Z"
    }
   },
   "outputs": [],
   "source": [
    "import psycopg2\n",
    "import time\n",
    "from binance.client import Client\n",
    "import bin_keys\n",
    "from datetime import datetime, timedelta\n",
    "import sys"
   ]
  },
  {
   "cell_type": "markdown",
   "metadata": {},
   "source": [
    "#Connects to the Binance API using the security key"
   ]
  },
  {
   "cell_type": "code",
   "execution_count": null,
   "metadata": {
    "ExecuteTime": {
     "end_time": "2020-08-13T22:17:39.040724Z",
     "start_time": "2020-08-13T22:17:38.761329Z"
    }
   },
   "outputs": [],
   "source": [
    "#Connects to the Binance API using the security key\n",
    "client = Client(bin_keys.p_key, bin_keys.s_key)"
   ]
  },
  {
   "cell_type": "markdown",
   "metadata": {},
   "source": [
    "Gets the symbol or cryptos which have the status 'Trading' and excludes the ones that are on break and stores it in the symbol_list"
   ]
  },
  {
   "cell_type": "code",
   "execution_count": null,
   "metadata": {
    "ExecuteTime": {
     "end_time": "2020-08-13T22:17:42.754441Z",
     "start_time": "2020-08-13T22:17:42.459183Z"
    }
   },
   "outputs": [],
   "source": [
    "symbol_info = client.get_exchange_info()['symbols']\n",
    "symbol_list = [i['symbol'] for i in symbol_info  if i['status'] == 'TRADING']"
   ]
  },
  {
   "cell_type": "markdown",
   "metadata": {},
   "source": [
    "# Connects to database server and initiates a cursor "
   ]
  },
  {
   "cell_type": "markdown",
   "metadata": {},
   "source": [
    "The Cursor class allows Python code to execute PostgreSQL command in a database session. Cursors are created by the connection.cursor() method: they are bound to the connection for the entire lifetime and all the commands are executed in the context of the database session wrapped by the connection."
   ]
  },
  {
   "cell_type": "code",
   "execution_count": null,
   "metadata": {
    "ExecuteTime": {
     "end_time": "2020-08-13T22:17:57.839225Z",
     "start_time": "2020-08-13T22:17:57.723533Z"
    }
   },
   "outputs": [],
   "source": [
    "#Enter the password setup by you for the user\n",
    "conn = psycopg2.connect(\"dbname=trading user=postgres password=*******\") \n",
    "cur = conn.cursor()"
   ]
  },
  {
   "cell_type": "markdown",
   "metadata": {},
   "source": [
    "The below function rounds up the time to the next starting time of the candlestick.\n",
    "It rounds up the minute part. For example, if its 54minutes then the next start time for the candlestick is 55 minutes hence the round up time has the minute set to 55 minutes."
   ]
  },
  {
   "cell_type": "code",
   "execution_count": null,
   "metadata": {
    "ExecuteTime": {
     "end_time": "2020-08-13T22:18:02.488425Z",
     "start_time": "2020-08-13T22:18:02.478452Z"
    }
   },
   "outputs": [],
   "source": [
    "def nearest_minute_rounder(current_time):\n",
    "    minute = current_time.minute\n",
    "    minute_tens_position = int(minute/10)\n",
    "    minute_unit_position = minute % 10\n",
    "\n",
    "    if minute_unit_position in (0,1,2,3,4):\n",
    "        minute_unit_position = 0\n",
    "    else:\n",
    "        minute_unit_position = 5\n",
    "    new_minute = str(minute_tens_position) + str(minute_unit_position)\n",
    "    return datetime.strptime((datetime.strftime(current_time,'%d-%m-%Y %H:') + new_minute + ':00'),'%d-%m-%Y %H:%M:%S')"
   ]
  },
  {
   "cell_type": "markdown",
   "metadata": {},
   "source": [
    "Below code block checks for the time interval of the preceding candlestick to be passed so that as soon as the candlestick closing time has passed we get the candlestick values for all the symbols in the symbol_list.\n",
    "\n",
    "to_and_fro_UTC:\n",
    "This variable is used to convert a given time in UTC while getting the start_raw value.\n",
    "It is used to convert the end_raw time, which gets converted to UTC for the values within the loop, to be converted back to the original time for the first if condition to be satisfied.\n",
    "\n",
    "start_raw & end_raw:\n",
    "Both are datetime objects variables.But cannot be used to extract the candlestick values as the function client.get_historical_klines() requires the time to be inserted in form of a string.\n",
    "\n",
    "start_time & end_time :\n",
    "Variables converted to string using the datetime object variables 'start_raw' & 'end_raw'.\n",
    "\n",
    "serial_id :\n",
    "It is a variable assigned to give a unique integer to each of candlestick values retreived for all the symbols. \n",
    "For example : for a given 5 minutes timeframe we get values of a 5 minute candlestick for each of the symbols in symbol_list. Hence for each of these symbols the serial_id will be the same. The next same symbols in the next 5 minute timeframe will have the next integer value assigned as the serial_id.This is to easily access the blocks or number of candlesticks retrieved.\n",
    "\n",
    "historical_klines:\n",
    "Its a list that stores the candlestick values for a symbol.\n",
    "\n",
    "conn.commit():\n",
    "Makes the changes into the database.\n"
   ]
  },
  {
   "cell_type": "code",
   "execution_count": null,
   "metadata": {
    "ExecuteTime": {
     "end_time": "2020-08-13T22:27:04.448172Z",
     "start_time": "2020-08-13T22:18:08.523471Z"
    }
   },
   "outputs": [],
   "source": [
    "to_and_fro_UTC = timedelta(hours = 5,minutes = 30)\n",
    "start_raw = nearest_minute_rounder(datetime.now()) - to_and_fro_UTC\n",
    "end_raw = start_raw + timedelta(minutes=4 ,seconds=59)\n",
    "\n",
    "while True:\n",
    "    #the condition checks if the current time has crossed the closing time for the previous candlestick\n",
    "    if (datetime.now() > end_raw + to_and_fro_UTC): \n",
    "        start_time = datetime.strftime(start_raw,'%m-%d-%Y %H:%M:%S')\n",
    "        end_time = datetime.strftime(end_raw,'%m-%d-%Y %H:%M:%S')\n",
    "        \n",
    "        klines = []\n",
    "        \n",
    "        #Check for the maximum serial_id assigned in the database \n",
    "        cur.execute(\"SELECT MAX(serial_id) FROM price\")\n",
    "        serial_id_raw = (cur.fetchall())[0][0]\n",
    "\n",
    "        if serial_id_raw is None:\n",
    "            serial_id = 1\n",
    "        else:\n",
    "            serial_id = int(serial_id_raw) + 1\n",
    "\n",
    "        for symbol in symbol_list:\n",
    "            #Get the candlestick values for 5minute intervals\n",
    "            historical_klines =(client.get_historical_klines(symbol,\"5m\",start_time, end_time))\n",
    "            \n",
    "            if historical_klines == []:\n",
    "                count.append(symbol)\n",
    "                continue\n",
    "            else:\n",
    "                historical_klines = historical_klines[0]\n",
    "            klines.append(historical_klines)\n",
    "            \n",
    "            #Enter the values into the respective columns in the database\n",
    "            sql_string = \"INSERT INTO price(serial_id,symbol,taim,opan,high,low,claus,volume) \"\n",
    "            sql_string += \"VALUES('{}','{}','{}','{}','{}','{}','{}','{}')\".format(serial_id,symbol,datetime.fromtimestamp(historical_klines[0]/1000),float(historical_klines[1]),float(historical_klines[2]),float(historical_klines[3]),float(historical_klines[4]),float(historical_klines[8]))\n",
    "            cur.execute(sql_string)\n",
    "        conn.commit()\n",
    "        end_raw += timedelta(minutes = 5)\n",
    "        start_raw += timedelta(minutes = 5)"
   ]
  },
  {
   "cell_type": "code",
   "execution_count": null,
   "metadata": {
    "ExecuteTime": {
     "end_time": "2020-08-13T22:27:07.841187Z",
     "start_time": "2020-08-13T22:27:07.835202Z"
    }
   },
   "outputs": [],
   "source": [
    "#below code closes the cursor and the connection\n",
    "cur.close()\n",
    "conn.close()"
   ]
  }
 ],
 "metadata": {
  "kernelspec": {
   "display_name": "Python 3",
   "language": "python",
   "name": "python3"
  },
  "language_info": {
   "codemirror_mode": {
    "name": "ipython",
    "version": 3
   },
   "file_extension": ".py",
   "mimetype": "text/x-python",
   "name": "python",
   "nbconvert_exporter": "python",
   "pygments_lexer": "ipython3",
   "version": "3.7.6"
  }
 },
 "nbformat": 4,
 "nbformat_minor": 4
}
