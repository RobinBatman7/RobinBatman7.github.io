{
 "cells": [
  {
   "cell_type": "markdown",
   "metadata": {},
   "source": [
    "# Alert for Crypto Price changes for 5 minute intervals"
   ]
  },
  {
   "cell_type": "markdown",
   "metadata": {},
   "source": [
    "4 key terminologies :\n",
    "\n",
    "Symbol : The cryptocurrency name being traded in a particular market(name is combination of BaseAsset + QuoteAsset)\n",
    "\n",
    "BaseAsset: The cryptocurrency which is being traded.\n",
    "\n",
    "quoteAsset: The cryptocurrency with which the baseAsset is being traded(bought or sold)\n",
    "\n",
    "Volume : Trading volume in terms of the BaseAsset."
   ]
  },
  {
   "cell_type": "markdown",
   "metadata": {},
   "source": [
    "bin_keys is .py file which stores the Binance API key and Secret key "
   ]
  },
  {
   "cell_type": "code",
   "execution_count": null,
   "metadata": {
    "ExecuteTime": {
     "end_time": "2020-08-13T22:08:01.668925Z",
     "start_time": "2020-08-13T22:08:01.641998Z"
    }
   },
   "outputs": [],
   "source": [
    "from binance.client import Client\n",
    "import bin_keys #Importing the Binance API and Secret Keys\n",
    "import pandas as pd\n",
    "import numpy as np\n",
    "import datetime\n",
    "import time\n",
    "from  datetime import timedelta #using it for calculating 5 min price changes\n",
    "from datetime import datetime\n",
    "import sys #check the size of the variable\n",
    "import requests # for the telegram bot\n",
    "import telegram_keys"
   ]
  },
  {
   "cell_type": "markdown",
   "metadata": {},
   "source": [
    "##Login to the Binance API"
   ]
  },
  {
   "cell_type": "code",
   "execution_count": null,
   "metadata": {
    "ExecuteTime": {
     "end_time": "2020-08-13T22:08:05.029200Z",
     "start_time": "2020-08-13T22:08:04.772128Z"
    }
   },
   "outputs": [],
   "source": [
    "client = Client(bin_keys.p_key,bin_keys.s_key)"
   ]
  },
  {
   "cell_type": "code",
   "execution_count": null,
   "metadata": {
    "ExecuteTime": {
     "end_time": "2020-08-13T22:08:11.468167Z",
     "start_time": "2020-08-13T22:08:07.644983Z"
    }
   },
   "outputs": [],
   "source": [
    "#Returns a list of information about each of the symbols available in the exchange\n",
    "symbol_info = client.get_exchange_info()['symbols']\n",
    "\n",
    "#Maps the symbols againsts the columns names\n",
    "symbol_check = pd.DataFrame(columns=['symbol' ,'quoteAsset' ,'baseAsset','status'])\n",
    "\n",
    "for dic in symbol_info:\n",
    "    new_row = pd.Series({'symbol':dic['symbol'],'quoteAsset':dic['quoteAsset'],'baseAsset':dic['baseAsset'],'status':dic['status']})\n",
    "    symbol_check = symbol_check.append(new_row , ignore_index=True)\n",
    "symbol_check.set_index(\"symbol\",inplace=True)"
   ]
  },
  {
   "cell_type": "markdown",
   "metadata": {},
   "source": [
    "CONVERTER FUNCTION:\n",
    "\n",
    "Each of the quoteasset for the symbol is converted in terms of USDT price to have a common price measure.\n",
    "'final_conv' is the list returned after the conversion.\n",
    "\n",
    "The below if else conditions keep looking for the quoteasset to be matched with USDT."
   ]
  },
  {
   "cell_type": "code",
   "execution_count": null,
   "metadata": {
    "ExecuteTime": {
     "end_time": "2020-08-13T22:08:17.162711Z",
     "start_time": "2020-08-13T22:08:17.134787Z"
    }
   },
   "outputs": [],
   "source": [
    "def quoteAsset_to_usdt_converter(symbol_check):\n",
    "    \n",
    "    #creating a list of all the quoteAsset\n",
    "    quote_asset_list = list(symbol_check[\"quoteAsset\"].unique())\n",
    "    \n",
    "    #Tries to get the quote assest price in terms of all other quote asset\n",
    "    prices = client.get_all_tickers()#gets the current prices of all the symbols as dictionary\n",
    "    prices_dict = dict(zip([i[\"symbol\"] for i in prices],[i['price'] for i in prices]))\n",
    "    conv_price_dict = {}\n",
    "    \n",
    "    for mainQuoteAsset in quote_asset_list:\n",
    "        for quoteAsset in quote_asset_list:\n",
    "            if quoteAsset + mainQuoteAsset in prices_dict.keys():\n",
    "                 conv_price_dict[quoteAsset+mainQuoteAsset] = prices_dict[quoteAsset + mainQuoteAsset]\n",
    "\n",
    "    final_conv = {}\n",
    "    final_conv[\"USDT\"] = 1\n",
    "    for quoteAsset in [i for i in quote_asset_list if i != \"USDT\"]:\n",
    "        temp_quoteAsset = quoteAsset\n",
    "        i=0\n",
    "        while i < len(list(conv_price_dict.items())):\n",
    "            symbol,price = list(conv_price_dict.items())[i]\n",
    "            if (temp_quoteAsset + \"USDT\") in conv_price_dict.keys():\n",
    "                final_conv[quoteAsset] = final_conv.setdefault(quoteAsset,1) * float(conv_price_dict[temp_quoteAsset +\"USDT\"])\n",
    "                break\n",
    "            elif (\"USDT\" + temp_quoteAsset) in conv_price_dict.keys():\n",
    "                final_conv[quoteAsset] = final_conv.setdefault(quoteAsset,1) / float(conv_price_dict[\"USDT\" + temp_quoteAsset])\n",
    "                break\n",
    "\n",
    "            elif temp_quoteAsset == symbol[len(temp_quoteAsset):]:\n",
    "                final_conv[quoteAsset] = final_conv.setdefault(quoteAsset,1) /float(price)\n",
    "                temp_quoteAsset = symbol[:len(temp_quoteAsset)]\n",
    "                i = 0\n",
    "            elif temp_quoteAsset == symbol[:len(temp_quoteAsset)]:\n",
    "                final_conv[quoteAsset] = final_conv.setdefault(quoteAsset,1) * float(price)\n",
    "                temp_quoteAsset = symbol[len(temp_quoteAsset):]\n",
    "                i = 0\n",
    "            else:\n",
    "                i += 1\n",
    "    return final_conv"
   ]
  },
  {
   "cell_type": "markdown",
   "metadata": {},
   "source": [
    "VOLUME FILTER FUNCTION:\n",
    "\n",
    "After getting the price changes for 5 minutes interval , top 40 price change symbols are selected and volume of each of these symbols if found and measured against the common measure price received from the quoteAsset_to_usdt_converter() function. Only the symbols which crosses the threshold set by the variable 'volume_threshold' are returned as a list 'filtered_top'."
   ]
  },
  {
   "cell_type": "code",
   "execution_count": null,
   "metadata": {
    "ExecuteTime": {
     "end_time": "2020-08-13T22:08:21.440853Z",
     "start_time": "2020-08-13T22:08:21.428885Z"
    }
   },
   "outputs": [],
   "source": [
    "def volume_filter(symbol_check):\n",
    "    filtered_top = []\n",
    "    \n",
    "    #Extracting the volume for symbols based on the top percentage changes \n",
    "    volume_threshold = 3000 #USDT/5mins\n",
    "    \n",
    "    #We take first 40 symbols from the sorted percentage change column\n",
    "    for symbol in top.index[:40]:\n",
    "        candles = client.get_klines(symbol=symbol, interval='5m' , limit = 1)\n",
    "        volume_tracker[symbol] = candles[0][7]\n",
    "\n",
    "    for key in volume_tracker.keys():\n",
    "        quoteAsset = symbol_check.loc[key][\"quoteAsset\"]\n",
    "        new_volume = float(volume_tracker[key]) * final_conv[quoteAsset]\n",
    "        if new_volume > volume_threshold:\n",
    "            filtered_top.append(key)\n",
    "    return filtered_top"
   ]
  },
  {
   "cell_type": "markdown",
   "metadata": {},
   "source": [
    "TELEGRAM MESSAGING FUNCTION:\n",
    "\n",
    "Need to create a telegram bot for yourself.\n",
    "\n",
    "Creating your bot:\n",
    "\n",
    "1.On Telegram, search @ BotFather, send him a “/start” message.\n",
    "\n",
    "2.Send another “/newbot” message, then follow the instructions to setup a name and a username.\n",
    "\n",
    "3.Your bot is now ready, be sure to save a backup of your API token and this API token is your  bot_token.\n",
    "\n"
   ]
  },
  {
   "cell_type": "code",
   "execution_count": null,
   "metadata": {
    "ExecuteTime": {
     "end_time": "2020-08-13T22:08:24.621124Z",
     "start_time": "2020-08-13T22:08:24.616138Z"
    }
   },
   "outputs": [],
   "source": [
    "def telegram_bot_sendtext(bot_message):\n",
    "    bot_token = telegram_keys.token_key\n",
    "    bot_chatID = telegram_keys.chatID_key\n",
    "    send_text = 'https://api.telegram.org/bot' + bot_token + '/sendMessage?chat_id=' + bot_chatID + '&parse_mode=Markdown&text=' + bot_message\n",
    "    response = requests.get(send_text)\n",
    "    return response.json()"
   ]
  },
  {
   "cell_type": "markdown",
   "metadata": {},
   "source": [
    "## Main Loop:"
   ]
  },
  {
   "cell_type": "markdown",
   "metadata": {},
   "source": [
    "Below block runs continuously sending messages on telegram with the cryptoname and percentage change with the top percentage changes."
   ]
  },
  {
   "cell_type": "code",
   "execution_count": null,
   "metadata": {
    "ExecuteTime": {
     "end_time": "2020-08-13T22:15:06.908921Z",
     "start_time": "2020-08-13T22:08:55.865167Z"
    },
    "scrolled": true
   },
   "outputs": [],
   "source": [
    "#Getting the prices and volume for all the symbols continuously till interruption (click on 'i' key twice)\n",
    "time_count = 0\n",
    "volume_tracker = {}\n",
    "final_top = {}\n",
    "final_top_buffer = {}\n",
    "final_conv = quoteAsset_to_usdt_converter(symbol_check)\n",
    "\n",
    "\n",
    "while True:\n",
    "    time.sleep(1)\n",
    "    #Below function gets all the current prices of the symbols and stors in the variable price as a dictionary\n",
    "    prices = client.get_all_tickers()\n",
    "    \n",
    "    #new_column_name takes in the current time and we initialize all the values in that column as NAN\n",
    "    new_column_name = datetime.now()\n",
    "    symbol_check[new_column_name] = np.nan\n",
    "    \n",
    "    #Adding prices to dataframe with timestamp as column name\n",
    "    for price_dict in prices:\n",
    "        symbol_check.loc[price_dict[\"symbol\"],new_column_name] = float(price_dict[\"price\"]) \n",
    "        \n",
    "    #Finding price difference once the last column exceeds the specified time gap i.e 5 minutes with certain tolerance\n",
    "    #The following if condition makes sure that 5 minutes have passed so that a \n",
    "    #minimum 5minute old column exists in the dataframe\n",
    "    last_column = -1 \n",
    "    first_column_with_prices = 3 #this is the starting column number with prices\n",
    "    if (symbol_check.columns[last_column] - symbol_check.columns[first_column_with_prices]) > timedelta(minutes=5):\n",
    "        now = symbol_check.columns[last_column]\n",
    "        #setting the tolerance\n",
    "        upper_limit = now - timedelta(minutes=4,seconds=57)\n",
    "        lower_limit = now - timedelta(minutes=5,seconds=3)\n",
    "        \n",
    "        #Finding 5 min old column which is in between the upper and lower limit\n",
    "        five_min_old_colname = [i for i in symbol_check.columns[first_column_with_prices:] if lower_limit < i < upper_limit]\n",
    "        if five_min_old_colname == []:\n",
    "            continue\n",
    "        else:\n",
    "            five_min_old_colname = five_min_old_colname[0]\n",
    "        \n",
    "        five_min_ago = symbol_check[five_min_old_colname]\n",
    "        percentage_change_five_min = (((symbol_check.iloc[:,last_column] - five_min_ago)/five_min_ago)*100)\n",
    "        \n",
    "        #Sorts the symbols based on percentage change (Higher to lower )\n",
    "        top = abs(percentage_change_five_min).sort_values( axis=0 , ascending=False )\n",
    "        \n",
    "        #This runs only if new coins are added which are not present in volume_tracker\n",
    "        if [i for i in top.index[:40] if i not in volume_tracker.keys()] != []:\n",
    "            #Extracting the volume for symbols based on the top percentage changes \n",
    "            filtered_top = volume_filter(symbol_check)\n",
    "        \n",
    "        for symbol in filtered_top:\n",
    "            symbol_percentage_change = percentage_change_five_min[symbol]\n",
    "            greater_than_threshold = 1.47329\n",
    "            greater_than_percent = 3.0\n",
    "            #If symbol has not been added  \n",
    "            if ((symbol not in final_top_buffer.keys()) or (abs(symbol_percentage_change) > (greater_than_threshold * abs(final_top_buffer[symbol])))) and (abs(symbol_percentage_change) > greater_than_percent):\n",
    "                bot_message = \"{} , {}%\".format(symbol,symbol_percentage_change)#stores the symbol and % change\n",
    "                telegram_bot_sendtext(bot_message)\n",
    "            final_top[symbol] = symbol_percentage_change\n",
    "\n",
    "        #Below code runs once every 3600 secs \n",
    "        #It deletes the symbol is not present in the top 40 symbols list during the time this code runs\n",
    "        #then that symbol is removed from final_top list\n",
    "        if (time.time() - time_count) > 60*60:\n",
    "            final_top_keys = list(final_top.keys())   \n",
    "            for key in final_top_keys:\n",
    "                if key not in top.index[:40]:\n",
    "                    del final_top[key]\n",
    "            time_count = time.time()\n",
    "            \n",
    "        #Save a copy of the current final_top so that it can be checked in the next \n",
    "        #iteration so as to not send duplicate signals\n",
    "        final_top_buffer = final_top\n",
    "        #Dropping the  first column everytime it takes the price difference\n",
    "        symbol_check.drop(columns=symbol_check.columns[first_column_with_prices]) "
   ]
  }
 ],
 "metadata": {
  "kernelspec": {
   "display_name": "Python 3",
   "language": "python",
   "name": "python3"
  },
  "language_info": {
   "codemirror_mode": {
    "name": "ipython",
    "version": 3
   },
   "file_extension": ".py",
   "mimetype": "text/x-python",
   "name": "python",
   "nbconvert_exporter": "python",
   "pygments_lexer": "ipython3",
   "version": "3.7.6"
  }
 },
 "nbformat": 4,
 "nbformat_minor": 4
}
